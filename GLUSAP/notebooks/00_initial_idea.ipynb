{
 "cells": [
  {
   "cell_type": "code",
   "id": "initial_id",
   "metadata": {
    "collapsed": true,
    "ExecuteTime": {
     "end_time": "2024-10-04T21:20:23.712771Z",
     "start_time": "2024-10-04T21:20:19.686324Z"
    }
   },
   "source": [
    "from simglucose.simulation.env import T1DSimEnv\n",
    "from simglucose.controller.basal_bolus_ctrller import BBController\n",
    "from simglucose.sensor.cgm import CGMSensor\n",
    "from simglucose.actuator.pump import InsulinPump\n",
    "from simglucose.patient.t1dpatient import T1DPatient\n",
    "from simglucose.simulation.scenario_gen import RandomScenario\n",
    "from simglucose.simulation.scenario import CustomScenario\n",
    "from simglucose.simulation.sim_engine import SimObj, sim, batch_sim\n",
    "from datetime import timedelta\n",
    "from datetime import datetime\n",
    "\n",
    "\n",
    "start_time = datetime.now().replace(hour=0, minute=0, second=0, microsecond=0)\n",
    "\n",
    "# --------- Create Custom Scenario --------------\n",
    "patient = T1DPatient.withName('adolescent#001')\n",
    "sensor = CGMSensor.withName('Dexcom', seed=1)\n",
    "pump = InsulinPump.withName('Insulet')\n",
    "scen = [(7, 45), (12, 70), (16, 15), (18, 80), (23, 10)]\n",
    "scenario = CustomScenario(start_time=start_time, scenario=scen)\n",
    "env = T1DSimEnv(patient, sensor, pump, scenario)\n",
    "\n",
    "controller = BBController()\n",
    "\n",
    "s2 = SimObj(env, controller, timedelta(days=1), animate=False, path='../data/raw/')\n",
    "df = sim(s2)\n",
    "print(df)"
   ],
   "outputs": [
    {
     "name": "stdout",
     "output_type": "stream",
     "text": [
      "Process ID: 4521\n",
      "Simulation starts ...\n",
      "Simulation Completed!\n",
      "                             BG         CGM  CHO   insulin      LBGI  \\\n",
      "Time                                                                   \n",
      "2024-10-04 00:00:00  149.020000  165.793949  0.0  0.013933  0.000000   \n",
      "2024-10-04 00:03:00  149.020000  161.582022  0.0  0.013933  0.000000   \n",
      "2024-10-04 00:06:00  149.020000  159.239373  0.0  0.013933  0.000000   \n",
      "2024-10-04 00:09:00  149.020000  157.472710  0.0  0.013933  0.000000   \n",
      "2024-10-04 00:12:00  149.020000  156.108950  0.0  0.013933  0.000000   \n",
      "...                         ...         ...  ...       ...       ...   \n",
      "2024-10-04 23:48:00   93.366001   93.736518  0.0  0.013933  1.204979   \n",
      "2024-10-04 23:51:00   93.288345   92.966818  0.0  0.013933  1.215732   \n",
      "2024-10-04 23:54:00   93.210068   92.409334  0.0  0.013933  1.226629   \n",
      "2024-10-04 23:57:00   93.133161   92.171035  0.0  0.013933  1.237391   \n",
      "2024-10-05 00:00:00   93.059999   92.250490  NaN       NaN  1.247680   \n",
      "\n",
      "                         HBGI      Risk  \n",
      "Time                                     \n",
      "2024-10-04 00:00:00  2.755276  2.755276  \n",
      "2024-10-04 00:03:00  2.755276  2.755276  \n",
      "2024-10-04 00:06:00  2.755276  2.755276  \n",
      "2024-10-04 00:09:00  2.755276  2.755276  \n",
      "2024-10-04 00:12:00  2.755276  2.755276  \n",
      "...                       ...       ...  \n",
      "2024-10-04 23:48:00  0.000000  1.204979  \n",
      "2024-10-04 23:51:00  0.000000  1.215732  \n",
      "2024-10-04 23:54:00  0.000000  1.226629  \n",
      "2024-10-04 23:57:00  0.000000  1.237391  \n",
      "2024-10-05 00:00:00  0.000000  1.247680  \n",
      "\n",
      "[481 rows x 7 columns]\n"
     ]
    }
   ],
   "execution_count": 40
  },
  {
   "metadata": {},
   "cell_type": "code",
   "outputs": [],
   "execution_count": null,
   "source": "",
   "id": "8de89dfb296524ad"
  }
 ],
 "metadata": {
  "kernelspec": {
   "display_name": "Python 3",
   "language": "python",
   "name": "python3"
  },
  "language_info": {
   "codemirror_mode": {
    "name": "ipython",
    "version": 2
   },
   "file_extension": ".py",
   "mimetype": "text/x-python",
   "name": "python",
   "nbconvert_exporter": "python",
   "pygments_lexer": "ipython2",
   "version": "2.7.6"
  }
 },
 "nbformat": 4,
 "nbformat_minor": 5
}
